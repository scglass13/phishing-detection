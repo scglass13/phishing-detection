{
 "cells": [
  {
   "cell_type": "code",
   "execution_count": null,
   "id": "f44fb2f6-99e6-412b-8ee1-5b04c1c405b5",
   "metadata": {},
   "outputs": [],
   "source": [
    "import requests\n",
    "import json\n",
    "\n",
    "#Set your PhishTank API key\n",
    "API_KEY = \n",
    "url = f'http://data.phishtank.com/data{API_KEY}/online-valid.json'\n",
    "\n",
    "try:\n",
    "    response = requests.get(url)\n",
    "    if response.status_code == 200:\n",
    "        phishing_data = response.json()\n",
    "        with open('phishing_urls.json', 'w') as f:\n",
    "            json.dump(phishing_data, f, indent=4)\n",
    "        print(\"Phishing data saved successfully.\")\n",
    "    else:\n",
    "        print(\"Error fetching data:\", response.status_code)\n",
    "except Exception as e:\n",
    "    print(\"Error:\", e)"
   ]
  }
 ],
 "metadata": {
  "kernelspec": {
   "display_name": "Python 3 (ipykernel)",
   "language": "python",
   "name": "python3"
  },
  "language_info": {
   "codemirror_mode": {
    "name": "ipython",
    "version": 3
   },
   "file_extension": ".py",
   "mimetype": "text/x-python",
   "name": "python",
   "nbconvert_exporter": "python",
   "pygments_lexer": "ipython3",
   "version": "3.12.3"
  }
 },
 "nbformat": 4,
 "nbformat_minor": 5
}
