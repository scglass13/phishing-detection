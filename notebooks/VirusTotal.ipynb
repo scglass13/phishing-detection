{
 "cells": [
  {
   "cell_type": "code",
   "execution_count": null,
   "id": "679f968e-0e42-4b68-8255-ac32f3404dc8",
   "metadata": {},
   "outputs": [],
   "source": [
    "import requests\n",
    "\n",
    "VT_API_KEY = 0ea4a34cc3c4cb5dc6c0b2ed9491fb1a31621726f3f2a726774f83d1b9740410\n",
    "url = \"https://www.virustotal.com/api/v3/urls\"\n",
    "headers = {'x-apikey': VT_API_KEY}\n",
    "params = {'url': 'http://suspicious-link.com'}\n",
    "\n",
    "response = requests.post(url, headers=headers. params=params)\n",
    "\n",
    "if response.status_code == 200:\n",
    "    result = response.json()\n",
    "    print(result)\n",
    "else:\n",
    "    print(\"Error:\", response.status_code)"
   ]
  }
 ],
 "metadata": {
  "kernelspec": {
   "display_name": "Python 3 (ipykernel)",
   "language": "python",
   "name": "python3"
  },
  "language_info": {
   "codemirror_mode": {
    "name": "ipython",
    "version": 3
   },
   "file_extension": ".py",
   "mimetype": "text/x-python",
   "name": "python",
   "nbconvert_exporter": "python",
   "pygments_lexer": "ipython3",
   "version": "3.12.3"
  }
 },
 "nbformat": 4,
 "nbformat_minor": 5
}
