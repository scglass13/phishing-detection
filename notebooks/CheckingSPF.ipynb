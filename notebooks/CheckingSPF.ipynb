{
 "cells": [
  {
   "cell_type": "code",
   "execution_count": null,
   "id": "c699a38d-fcd0-4060-a1cc-3f14011edc89",
   "metadata": {},
   "outputs": [],
   "source": [
    "import dns.resolver\n",
    "\n",
    "def check_spf(domain):\n",
    "    try:\n",
    "        answers = dns.resolver.resolve(domain, 'TXT')\n",
    "        for rdata in answers:\n",
    "            if 'v=spf1' in str(rdata):\n",
    "                return True\n",
    "    except dns.resolver.NoAnswer:\n",
    "        return False\n",
    "    return False\n",
    "\n",
    "print(\"SPF Record Exists:\", check_spf(\"example.com\"))"
   ]
  }
 ],
 "metadata": {
  "kernelspec": {
   "display_name": "Python 3 (ipykernel)",
   "language": "python",
   "name": "python3"
  },
  "language_info": {
   "codemirror_mode": {
    "name": "ipython",
    "version": 3
   },
   "file_extension": ".py",
   "mimetype": "text/x-python",
   "name": "python",
   "nbconvert_exporter": "python",
   "pygments_lexer": "ipython3",
   "version": "3.12.3"
  }
 },
 "nbformat": 4,
 "nbformat_minor": 5
}
