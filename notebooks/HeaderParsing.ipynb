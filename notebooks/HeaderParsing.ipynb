{
 "cells": [
  {
   "cell_type": "code",
   "execution_count": null,
   "id": "6780d360-1778-443b-9582-b9c5da6eb5ae",
   "metadata": {},
   "outputs": [],
   "source": [
    "import email\n",
    "\n",
    "def parse_email_headers(file_path):\n",
    "    with open(file_path, 'r') as f:\n",
    "        msg = email.message_from_file(f)\n",
    "        headers = {\n",
    "            \"From\": msg[\"From\"],\n",
    "            \"To\": msg[\"To\"],\n",
    "            \"Subject\": msg[\"Subject\"],\n",
    "            \"SPF\": msg[\"Received-SPF\"],\n",
    "            \"DKIM\": msg[\"DKIM-Signature\"],\n",
    "            \"DMARC\": msg[\"Authentication-Results\"]\n",
    "        }\n",
    "    return headers\n",
    "\n",
    "email_headers = parse_email_headers('sample_email.eml')\n",
    "print(email_headers)"
   ]
  }
 ],
 "metadata": {
  "kernelspec": {
   "display_name": "Python 3 (ipykernel)",
   "language": "python",
   "name": "python3"
  },
  "language_info": {
   "codemirror_mode": {
    "name": "ipython",
    "version": 3
   },
   "file_extension": ".py",
   "mimetype": "text/x-python",
   "name": "python",
   "nbconvert_exporter": "python",
   "pygments_lexer": "ipython3",
   "version": "3.12.3"
  }
 },
 "nbformat": 4,
 "nbformat_minor": 5
}
